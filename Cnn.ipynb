{
 "cells": [
  {
   "cell_type": "markdown",
   "metadata": {},
   "source": [
    "Imorting Libraries"
   ]
  },
  {
   "cell_type": "code",
   "execution_count": 2,
   "metadata": {},
   "outputs": [],
   "source": [
    "import pandas as pd\n",
    "import os\n",
    "import tensorflow as tf\n",
    "from keras.preprocessing.image import ImageDataGenerator\n",
    "import numpy as np\n",
    "from keras.preprocessing import image\n",
    "import matplotlib.pyplot as plt\n",
    "import cv2 as cv"
   ]
  },
  {
   "cell_type": "markdown",
   "metadata": {},
   "source": [
    "Entries ceation"
   ]
  },
  {
   "cell_type": "code",
   "execution_count": 3,
   "metadata": {},
   "outputs": [
    {
     "name": "stdout",
     "output_type": "stream",
     "text": [
      "{1: 'Acacia', 2: 'Adenanthera microsperma', 3: 'Adenium species', 4: 'Anacardium occidentale', 5: 'Annona squamosa', 6: 'Artocarpus altilis', 7: 'Artocarpus heterophyllus', 8: 'Barringtonia acutangula', 9: 'Cananga odorata', 10: 'Carica papaya', 11: 'Casuarina equisetifolia', 12: 'Cedrus', 13: 'Chrysophyllum cainino', 14: 'Citrus aurantiifolia', 15: 'Citrus grandis', 16: 'Cocos nucifera', 17: 'Dalbergia oliveri', 18: 'Delonix regia', 19: 'Dipterocarpus alatus', 20: 'Erythrina fusca', 21: 'Eucalyptus', 22: 'Ficus microcarpa', 23: 'Ficus racemosa', 24: 'Gmelina arborea Roxb', 25: 'Hevea brasiliensis', 26: 'Hopea', 27: 'Khaya senegalensis', 28: 'Khaya senegalensis A.Juss', 29: 'Lagerstroemia speciosa', 30: 'Magnolia alba', 31: 'Mangifera', 32: 'Melaleuca', 33: 'Melia azedarach', 34: 'Musa', 35: 'Nephelium lappaceum', 36: 'Persea', 37: 'Polyalthia longifolia', 38: 'Prunnus', 39: 'Prunus salicina', 40: 'Psidium guajava', 41: 'Pterocarpus macrocarpus', 42: 'Senna siamea', 43: 'Spondias mombin L', 44: 'Syzygium nervosum', 45: 'Tamarindus indica', 46: 'Tectona grandis', 47: 'Terminalia catappa', 48: 'Veitchia merrilli', 49: 'Wrightia', 50: 'Wrightia religiosa'}\n"
     ]
    }
   ],
   "source": [
    "\n",
    "x=os.walk(r\"./data\")\n",
    "x=list(x)\n",
    "entries={}\n",
    "it = 0\n",
    "for i in range(1,len(x)) :\n",
    "\n",
    "    entries[i]=x[i][0].split(\"\\\\\")[-1]\n",
    "    \n",
    "print(entries)\n",
    "def horizontal_flip(img, flag):\n",
    "    if flag>0.5:\n",
    "        return cv.flip(img, 1)\n",
    "    else:\n",
    "        return img\n",
    "\n"
   ]
  },
  {
   "cell_type": "markdown",
   "metadata": {},
   "source": [
    "Data processing and expanstion"
   ]
  },
  {
   "cell_type": "code",
   "execution_count": 3,
   "metadata": {},
   "outputs": [
    {
     "name": "stdout",
     "output_type": "stream",
     "text": [
      "{1: 'Acacia', 2: 'Adenanthera microsperma', 3: 'Adenium species', 4: 'Anacardium occidentale', 5: 'Annona squamosa', 6: 'Artocarpus altilis', 7: 'Artocarpus heterophyllus', 8: 'Barringtonia acutangula', 9: 'Cananga odorata', 10: 'Carica papaya', 11: 'Casuarina equisetifolia', 12: 'Cedrus', 13: 'Chrysophyllum cainino', 14: 'Citrus aurantiifolia', 15: 'Citrus grandis', 16: 'Cocos nucifera', 17: 'Dalbergia oliveri', 18: 'Delonix regia', 19: 'Dipterocarpus alatus', 20: 'Erythrina fusca', 21: 'Eucalyptus', 22: 'Ficus microcarpa', 23: 'Ficus racemosa', 24: 'Gmelina arborea Roxb', 25: 'Hevea brasiliensis', 26: 'Hopea', 27: 'Khaya senegalensis', 28: 'Khaya senegalensis A.Juss', 29: 'Lagerstroemia speciosa', 30: 'Magnolia alba', 31: 'Mangifera', 32: 'Melaleuca', 33: 'Melia azedarach', 34: 'Musa', 35: 'Nephelium lappaceum', 36: 'Persea', 37: 'Polyalthia longifolia', 38: 'Prunnus', 39: 'Prunus salicina', 40: 'Psidium guajava', 41: 'Pterocarpus macrocarpus', 42: 'Senna siamea', 43: 'Spondias mombin L', 44: 'Syzygium nervosum', 45: 'Tamarindus indica', 46: 'Tectona grandis', 47: 'Terminalia catappa', 48: 'Veitchia merrilli', 49: 'Wrightia', 50: 'Wrightia religiosa'}\n"
     ]
    },
    {
     "ename": "KeyboardInterrupt",
     "evalue": "",
     "output_type": "error",
     "traceback": [
      "\u001b[1;31m---------------------------------------------------------------------------\u001b[0m",
      "\u001b[1;31mKeyboardInterrupt\u001b[0m                         Traceback (most recent call last)",
      "\u001b[1;32m<ipython-input-3-ab2394d57be3>\u001b[0m in \u001b[0;36m<module>\u001b[1;34m\u001b[0m\n\u001b[0;32m     30\u001b[0m             \u001b[0mcv\u001b[0m\u001b[1;33m.\u001b[0m\u001b[0mimwrite\u001b[0m\u001b[1;33m(\u001b[0m\u001b[1;34m\"./data/\"\u001b[0m\u001b[1;33m+\u001b[0m\u001b[0mentries\u001b[0m\u001b[1;33m[\u001b[0m\u001b[0mi\u001b[0m\u001b[1;33m]\u001b[0m\u001b[1;33m+\u001b[0m\u001b[1;34m\"/\"\u001b[0m\u001b[1;33m+\u001b[0m\u001b[0mli\u001b[0m\u001b[1;33m[\u001b[0m\u001b[0mj\u001b[0m\u001b[1;33m]\u001b[0m\u001b[1;33m+\u001b[0m\u001b[1;34m\"ra\"\u001b[0m\u001b[1;33m+\u001b[0m\u001b[1;34m\".jpg\"\u001b[0m\u001b[1;33m,\u001b[0m\u001b[0mr2\u001b[0m\u001b[1;33m)\u001b[0m\u001b[1;33m\u001b[0m\u001b[1;33m\u001b[0m\u001b[0m\n\u001b[0;32m     31\u001b[0m         \u001b[1;32mif\u001b[0m  \u001b[1;34m\"f\"\u001b[0m \u001b[1;32mnot\u001b[0m \u001b[1;32min\u001b[0m \u001b[0mli\u001b[0m\u001b[1;33m[\u001b[0m\u001b[0mj\u001b[0m\u001b[1;33m]\u001b[0m\u001b[1;33m:\u001b[0m\u001b[1;33m\u001b[0m\u001b[1;33m\u001b[0m\u001b[0m\n\u001b[1;32m---> 32\u001b[1;33m             \u001b[0mimg\u001b[0m\u001b[1;33m=\u001b[0m\u001b[0mcv\u001b[0m\u001b[1;33m.\u001b[0m\u001b[0mimread\u001b[0m\u001b[1;33m(\u001b[0m\u001b[0mname\u001b[0m\u001b[1;33m)\u001b[0m\u001b[1;33m\u001b[0m\u001b[1;33m\u001b[0m\u001b[0m\n\u001b[0m\u001b[0;32m     33\u001b[0m             \u001b[0mcv\u001b[0m\u001b[1;33m.\u001b[0m\u001b[0mimwrite\u001b[0m\u001b[1;33m(\u001b[0m\u001b[1;34m\"./data/\"\u001b[0m\u001b[1;33m+\u001b[0m\u001b[0mentries\u001b[0m\u001b[1;33m[\u001b[0m\u001b[0mi\u001b[0m\u001b[1;33m]\u001b[0m\u001b[1;33m+\u001b[0m\u001b[1;34m\"/\"\u001b[0m\u001b[1;33m+\u001b[0m\u001b[0mli\u001b[0m\u001b[1;33m[\u001b[0m\u001b[0mj\u001b[0m\u001b[1;33m]\u001b[0m\u001b[1;33m+\u001b[0m\u001b[1;34m\"hf\"\u001b[0m\u001b[1;33m+\u001b[0m\u001b[1;34m\".jpg\"\u001b[0m\u001b[1;33m,\u001b[0m\u001b[0mhorizontal_flip\u001b[0m\u001b[1;33m(\u001b[0m\u001b[0mimg\u001b[0m\u001b[1;33m,\u001b[0m\u001b[1;36m1\u001b[0m\u001b[1;33m)\u001b[0m\u001b[1;33m)\u001b[0m\u001b[1;33m\u001b[0m\u001b[1;33m\u001b[0m\u001b[0m\n\u001b[0;32m     34\u001b[0m \u001b[1;33m\u001b[0m\u001b[0m\n",
      "\u001b[1;31mKeyboardInterrupt\u001b[0m: "
     ]
    }
   ],
   "source": [
    "\n",
    "\n",
    "for i in range(1,51):\n",
    "    li=os.listdir(\"./data/\"+entries[i])\n",
    "    for j in range(len(li)):\n",
    "    \n",
    "        name=\"./data/\"+entries[i]+\"/\"+li[j]\n",
    "        if \"r\" not in li[j]:\n",
    "            img=cv.imread(name)\n",
    "            rotation_matrix=cv.getRotationMatrix2D((img.shape[1]/2,img.shape[0]/2),np.random.uniform(1,5),1)\n",
    "            rotation_matrix2=cv.getRotationMatrix2D((img.shape[1]/2,img.shape[0]/2),-1*np.random.uniform(1,5),1)\n",
    "            r1=cv.warpAffine(img,rotation_matrix,(img.shape[1],img.shape[0]))\n",
    "            r2=cv.warpAffine(img,rotation_matrix2,(img.shape[1],img.shape[0]))\n",
    "            cv.imwrite(\"./data/\"+entries[i]+\"/\"+li[j]+\"rc\"+\".jpg\",r1)\n",
    "            cv.imwrite(\"./data/\"+entries[i]+\"/\"+li[j]+\"ra\"+\".jpg\",r2)\n",
    "        if  \"f\" not in li[j]:\n",
    "            img=cv.imread(name)\n",
    "            cv.imwrite(\"./data/\"+entries[i]+\"/\"+li[j]+\"hf\"+\".jpg\",horizontal_flip(img,1))\n",
    "            \n",
    "\n",
    "\n",
    "\n",
    "\n"
   ]
  },
  {
   "cell_type": "markdown",
   "metadata": {},
   "source": [
    "Data splitting"
   ]
  },
  {
   "cell_type": "code",
   "execution_count": 10,
   "metadata": {},
   "outputs": [
    {
     "name": "stdout",
     "output_type": "stream",
     "text": [
      "Found 44624 files belonging to 50 classes.\n",
      "Using 31237 files for training.\n",
      "Using 13387 files for validation.\n"
     ]
    }
   ],
   "source": [
    "\n",
    "train_generator, validation_generator = tf.keras.utils.image_dataset_from_directory(\n",
    "    directory='data/',\n",
    "    labels='inferred',\n",
    "    label_mode='categorical',\n",
    "    batch_size=128,\n",
    "    image_size=(404, 303),\n",
    "    shuffle=True,\n",
    "    seed=123,\n",
    "    validation_split=0.3,# 30% of the data will be used for validation\n",
    "    subset=\"both\")# splliting valadation  and trian\n"
   ]
  },
  {
   "cell_type": "markdown",
   "metadata": {},
   "source": [
    "Functions to build the cnn layer"
   ]
  },
  {
   "cell_type": "code",
   "execution_count": 5,
   "metadata": {},
   "outputs": [],
   "source": [
    "def makeHiddenLayers(inputs):\n",
    "        cnn = tf.keras.layers.Conv2D(16, (3, 3), padding=\"same\",activation=\"relu\")(inputs)\n",
    "        cnn = tf.keras.layers.BatchNormalization(axis=-1)(cnn)\n",
    "        cnn = tf.keras.layers.MaxPooling2D(pool_size=(3, 3))(cnn)\n",
    "        cnn = tf.keras.layers.Dropout(0.25)(cnn)\n",
    "        cnn = tf.keras.layers.Conv2D(32, (3, 3), padding=\"same\")(cnn)\n",
    "        cnn = tf.keras.layers.Activation(\"relu\")(cnn)\n",
    "        cnn = tf.keras.layers.BatchNormalization(axis=-1)(cnn)\n",
    "        cnn = tf.keras.layers.MaxPooling2D(pool_size=(2, 2))(cnn)\n",
    "        cnn = tf.keras.layers.Dropout(0.25)(cnn)\n",
    "        cnn = tf.keras.layers.Conv2D(32, (3, 3), padding=\"same\")(cnn)\n",
    "        cnn = tf.keras.layers.Activation(\"relu\")(cnn)\n",
    "        cnn = tf.keras.layers.BatchNormalization(axis=-1)(cnn)\n",
    "        cnn = tf.keras.layers.MaxPooling2D(pool_size=(2, 2))(cnn)\n",
    "        cnn = tf.keras.layers.Dropout(0.25)(cnn)\n",
    "        return cnn #return the layer of the hidden layers\n",
    "def makeOutputLayer(inputs,class_dict):\n",
    "    cnn=makeHiddenLayers(inputs)\n",
    "    cnn = tf.keras.layers.Flatten()(cnn)\n",
    "    cnn = tf.keras.layers.Dense(128)(cnn)\n",
    "    cnn = tf.keras.layers.Activation(\"relu\")(cnn)\n",
    "    cnn = tf.keras.layers.BatchNormalization()(cnn)\n",
    "    cnn = tf.keras.layers.Dropout(0.5)(cnn)\n",
    "    cnn = tf.keras.layers.Dense(class_dict)(cnn)\n",
    "    cnn = tf.keras.layers.Activation(\"softmax\", name=\"Bark_Output\")(cnn)\n",
    "\n",
    "    return cnn # return the output layer\n",
    "def assemble(width,height,class_dict):\n",
    "    inputs = tf.keras.layers.Input(shape=(height, width, 3))\n",
    "    cnnOutputLayers=makeOutputLayer(inputs,class_dict)\n",
    "    model=tf.keras.models.Model(inputs=inputs,outputs = [cnnOutputLayers],name=\"face_net\")\n",
    "    return model # return the model \n"
   ]
  },
  {
   "cell_type": "markdown",
   "metadata": {},
   "source": [
    "Model assembly and traning"
   ]
  },
  {
   "cell_type": "code",
   "execution_count": 12,
   "metadata": {},
   "outputs": [
    {
     "name": "stdout",
     "output_type": "stream",
     "text": [
      "Epoch 1/10\n",
      "WARNING:tensorflow:AutoGraph could not transform <function Model.make_train_function.<locals>.train_function at 0x000001B15F86B8B8> and will run it as-is.\n",
      "Please report this to the TensorFlow team. When filing the bug, set the verbosity to 10 (on Linux, `export AUTOGRAPH_VERBOSITY=10`) and attach the full output.\n",
      "Cause: 'arguments' object has no attribute 'posonlyargs'\n",
      "To silence this warning, decorate the function with @tf.autograph.experimental.do_not_convert\n",
      "WARNING: AutoGraph could not transform <function Model.make_train_function.<locals>.train_function at 0x000001B15F86B8B8> and will run it as-is.\n",
      "Please report this to the TensorFlow team. When filing the bug, set the verbosity to 10 (on Linux, `export AUTOGRAPH_VERBOSITY=10`) and attach the full output.\n",
      "Cause: 'arguments' object has no attribute 'posonlyargs'\n",
      "To silence this warning, decorate the function with @tf.autograph.experimental.do_not_convert\n",
      "245/245 [==============================] - ETA: 0s - loss: 1.9446 - accuracy: 0.5008WARNING:tensorflow:AutoGraph could not transform <function Model.make_test_function.<locals>.test_function at 0x000001B15263DCA8> and will run it as-is.\n",
      "Please report this to the TensorFlow team. When filing the bug, set the verbosity to 10 (on Linux, `export AUTOGRAPH_VERBOSITY=10`) and attach the full output.\n",
      "Cause: 'arguments' object has no attribute 'posonlyargs'\n",
      "To silence this warning, decorate the function with @tf.autograph.experimental.do_not_convert\n",
      "WARNING: AutoGraph could not transform <function Model.make_test_function.<locals>.test_function at 0x000001B15263DCA8> and will run it as-is.\n",
      "Please report this to the TensorFlow team. When filing the bug, set the verbosity to 10 (on Linux, `export AUTOGRAPH_VERBOSITY=10`) and attach the full output.\n",
      "Cause: 'arguments' object has no attribute 'posonlyargs'\n",
      "To silence this warning, decorate the function with @tf.autograph.experimental.do_not_convert\n",
      "245/245 [==============================] - 2219s 9s/step - loss: 1.9446 - accuracy: 0.5008 - val_loss: 1.9577 - val_accuracy: 0.4668\n",
      "Epoch 2/10\n",
      "245/245 [==============================] - 1716s 7s/step - loss: 0.6673 - accuracy: 0.8249 - val_loss: 1.1987 - val_accuracy: 0.6792\n",
      "Epoch 3/10\n",
      "245/245 [==============================] - 1757s 7s/step - loss: 0.3571 - accuracy: 0.9094 - val_loss: 0.7958 - val_accuracy: 0.8477\n",
      "Epoch 4/10\n",
      "245/245 [==============================] - 1751s 7s/step - loss: 0.2292 - accuracy: 0.9416 - val_loss: 1.0592 - val_accuracy: 0.8290\n",
      "Epoch 5/10\n",
      "245/245 [==============================] - 1604s 7s/step - loss: 0.1441 - accuracy: 0.9635 - val_loss: 1.7967 - val_accuracy: 0.7725\n",
      "Epoch 6/10\n",
      "245/245 [==============================] - 1590s 6s/step - loss: 0.1355 - accuracy: 0.9643 - val_loss: 1.5159 - val_accuracy: 0.7603\n",
      "Epoch 7/10\n",
      "245/245 [==============================] - 1723s 7s/step - loss: 0.1508 - accuracy: 0.9577 - val_loss: 0.7917 - val_accuracy: 0.8020\n",
      "Epoch 8/10\n",
      "245/245 [==============================] - 1649s 7s/step - loss: 0.1056 - accuracy: 0.9700 - val_loss: 1.1986 - val_accuracy: 0.8118\n",
      "Epoch 9/10\n",
      "245/245 [==============================] - 1790s 7s/step - loss: 0.0987 - accuracy: 0.9720 - val_loss: 0.5772 - val_accuracy: 0.8664\n",
      "Epoch 10/10\n",
      "245/245 [==============================] - 1614s 7s/step - loss: 0.0546 - accuracy: 0.9852 - val_loss: 0.4934 - val_accuracy: 0.8707\n"
     ]
    }
   ],
   "source": [
    "X=assemble(303, 404,50)\n",
    "X.compile(optimizer = 'adam', loss = 'categorical_crossentropy', metrics = ['accuracy'])\n",
    "HistoryModel=X.fit(x = train_generator , validation_data = validation_generator, epochs = 10)"
   ]
  },
  {
   "cell_type": "code",
   "execution_count": 13,
   "metadata": {},
   "outputs": [
    {
     "name": "stdout",
     "output_type": "stream",
     "text": [
      "WARNING:tensorflow:AutoGraph could not transform <function Model.make_predict_function.<locals>.predict_function at 0x000001B171258948> and will run it as-is.\n",
      "Please report this to the TensorFlow team. When filing the bug, set the verbosity to 10 (on Linux, `export AUTOGRAPH_VERBOSITY=10`) and attach the full output.\n",
      "Cause: 'arguments' object has no attribute 'posonlyargs'\n",
      "To silence this warning, decorate the function with @tf.autograph.experimental.do_not_convert\n",
      "WARNING: AutoGraph could not transform <function Model.make_predict_function.<locals>.predict_function at 0x000001B171258948> and will run it as-is.\n",
      "Please report this to the TensorFlow team. When filing the bug, set the verbosity to 10 (on Linux, `export AUTOGRAPH_VERBOSITY=10`) and attach the full output.\n",
      "Cause: 'arguments' object has no attribute 'posonlyargs'\n",
      "To silence this warning, decorate the function with @tf.autograph.experimental.do_not_convert\n",
      "1/1 [==============================] - 1s 509ms/step\n",
      "Adenanthera microsperma\n"
     ]
    }
   ],
   "source": [
    "\n",
    "test_image = tf.keras.utils.load_img(r'data\\Adenanthera microsperma\\IMG_5777.JPG', target_size = (404,303))\n",
    "test_image = tf.keras.utils.img_to_array(test_image)\n",
    "test_image = np.expand_dims(test_image, axis = 0)\n",
    "result = X.predict(test_image)\n",
    "maxIndex=0\n",
    "\n",
    "for i in range(1,50):\n",
    "      if result[0][i]>result[0][maxIndex]:\n",
    "            maxIndex=i\n",
    "print(entries[maxIndex+1])\n"
   ]
  },
  {
   "cell_type": "markdown",
   "metadata": {},
   "source": [
    "Accuercy graph"
   ]
  },
  {
   "cell_type": "code",
   "execution_count": 14,
   "metadata": {},
   "outputs": [
    {
     "name": "stdout",
     "output_type": "stream",
     "text": [
      "{'loss': [1.9445688724517822, 0.6673369407653809, 0.35706856846809387, 0.2291560024023056, 0.14413213729858398, 0.13549235463142395, 0.15080256760120392, 0.1055639460682869, 0.09874025732278824, 0.05455642566084862], 'accuracy': [0.5008163452148438, 0.8248551487922668, 0.9093703031539917, 0.9416397213935852, 0.9635047912597656, 0.9643051624298096, 0.9577423930168152, 0.9700355529785156, 0.971988320350647, 0.9851778149604797], 'val_loss': [1.957685112953186, 1.198742151260376, 0.7958170175552368, 1.059204339981079, 1.7966643571853638, 1.5158841609954834, 0.7916780710220337, 1.198596715927124, 0.5771903991699219, 0.49341174960136414], 'val_accuracy': [0.4667961597442627, 0.6791663765907288, 0.8476880788803101, 0.8290132284164429, 0.7724658250808716, 0.7602898478507996, 0.8020467758178711, 0.8117576837539673, 0.8663628697395325, 0.8706954717636108]}\n"
     ]
    }
   ],
   "source": [
    "print(HistoryModel.history)"
   ]
  },
  {
   "cell_type": "code",
   "execution_count": 16,
   "metadata": {},
   "outputs": [
    {
     "data": {
      "text/plain": [
       "[<matplotlib.lines.Line2D at 0x1b152256448>]"
      ]
     },
     "execution_count": 16,
     "metadata": {},
     "output_type": "execute_result"
    },
    {
     "data": {
      "image/png": "[encoded data removed]",
      "text/plain": [
       "<Figure size 432x288 with 1 Axes>"
      ]
     },
     "metadata": {
      "needs_background": "light"
     },
     "output_type": "display_data"
    }
   ],
   "source": [
    "plt.plot(range(1,11),HistoryModel.history['accuracy'],label=\"Training Accuracy\")\n",
    "plt.plot(range(1,11),HistoryModel.history['val_accuracy'],label=\"Validation Accuracy\")"
   ]
  },
  {
   "cell_type": "markdown",
   "metadata": {},
   "source": [
    "Loss Graph"
   ]
  },
  {
   "cell_type": "code",
   "execution_count": 17,
   "metadata": {},
   "outputs": [
    {
     "data": {
      "text/plain": [
       "[<matplotlib.lines.Line2D at 0x1b15225eb48>]"
      ]
     },
     "execution_count": 17,
     "metadata": {},
     "output_type": "execute_result"
    },
    {
     "data": {
      "image/png": "[encoded data removed]",
      "text/plain": [
       "<Figure size 432x288 with 1 Axes>"
      ]
     },
     "metadata": {
      "needs_background": "light"
     },
     "output_type": "display_data"
    }
   ],
   "source": [
    "plt.plot(range(1,11),HistoryModel.history['loss'],label=\"Training Accuracy\")\n",
    "plt.plot(range(1,11),HistoryModel.history['val_loss'],label=\"Validation Accuracy\")"
   ]
  }
 ],
 "metadata": {
  "kernelspec": {
   "display_name": "Python 3.7.9 64-bit",
   "language": "python",
   "name": "python3"
  },
  "language_info": {
   "name": "python",
   "version": "3.7.9"
  },
  "orig_nbformat": 4,
  "vscode": {
   "interpreter": {
    "hash": "b08f8407356b161a2e1ac7d2ca0aa1e0ec9901f167337b26f19bf60d60a06b81"
   }
  }
 },
 "nbformat": 4,
 "nbformat_minor": 2
}
