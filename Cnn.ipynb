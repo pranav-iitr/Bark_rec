{
 "cells": [
  {
   "cell_type": "markdown",
   "metadata": {},
   "source": [
    "Imorting Libraries"
   ]
  },
  {
   "cell_type": "code",
   "execution_count": 83,
   "metadata": {},
   "outputs": [],
   "source": [
    "import pandas as pd\n",
    "import os\n",
    "import tensorflow as tf\n",
    "from keras.preprocessing.image import ImageDataGenerator\n",
    "import numpy as np\n",
    "from keras.preprocessing import image\n",
    "import matplotlib.pyplot as plt\n",
    "import cv2 as cv"
   ]
  },
  {
   "cell_type": "markdown",
   "metadata": {},
   "source": [
    "Data extraction ,processing and expanstion"
   ]
  },
  {
   "cell_type": "code",
   "execution_count": 91,
   "metadata": {},
   "outputs": [
    {
     "name": "stdout",
     "output_type": "stream",
     "text": [
      "{1: 'Acacia', 2: 'Adenanthera microsperma', 3: 'Adenium species', 4: 'Anacardium occidentale', 5: 'Annona squamosa', 6: 'Artocarpus altilis', 7: 'Artocarpus heterophyllus', 8: 'Barringtonia acutangula', 9: 'Cananga odorata', 10: 'Carica papaya', 11: 'Casuarina equisetifolia', 12: 'Cedrus', 13: 'Chrysophyllum cainino', 14: 'Citrus aurantiifolia', 15: 'Citrus grandis', 16: 'Cocos nucifera', 17: 'Dalbergia oliveri', 18: 'Delonix regia', 19: 'Dipterocarpus alatus', 20: 'Erythrina fusca', 21: 'Eucalyptus', 22: 'Ficus microcarpa', 23: 'Ficus racemosa', 24: 'Gmelina arborea Roxb', 25: 'Hevea brasiliensis', 26: 'Hopea', 27: 'Khaya senegalensis', 28: 'Khaya senegalensis A.Juss', 29: 'Lagerstroemia speciosa', 30: 'Magnolia alba', 31: 'Mangifera', 32: 'Melaleuca', 33: 'Melia azedarach', 34: 'Musa', 35: 'Nephelium lappaceum', 36: 'Persea', 37: 'Polyalthia longifolia', 38: 'Prunnus', 39: 'Prunus salicina', 40: 'Psidium guajava', 41: 'Pterocarpus macrocarpus', 42: 'Senna siamea', 43: 'Spondias mombin L', 44: 'Syzygium nervosum', 45: 'Tamarindus indica', 46: 'Tectona grandis', 47: 'Terminalia catappa', 48: 'Veitchia merrilli', 49: 'Wrightia', 50: 'Wrightia religiosa'}\n",
      "Found 16734 files belonging to 50 classes.\n",
      "Using 13388 files for training.\n",
      "Using 3346 files for validation.\n"
     ]
    }
   ],
   "source": [
    "\n",
    "x=os.walk(r\"./data\")\n",
    "x=list(x)\n",
    "entries={}\n",
    "it = 0\n",
    "for i in range(1,len(x)) :\n",
    "\n",
    "    entries[i]=x[i][0].split(\"\\\\\")[-1]\n",
    "    \n",
    "print(entries)\n",
    "def horizontal_flip(img, flag):\n",
    "    if flag>0.5:\n",
    "        return cv.flip(img, 1)\n",
    "    else:\n",
    "        return img\n",
    "\n",
    "\n",
    "\n",
    "for i in range(1,51):\n",
    "    li=os.listdir(\"./data/\"+entries[i])\n",
    "    for j in range(len(li)):\n",
    "    \n",
    "        name=\"./data/\"+entries[i]+\"/\"+li[j]\n",
    "        if \"r\" not in li[j]:\n",
    "            img=cv.imread(name)\n",
    "            rotation_matrix=cv.getRotationMatrix2D((img.shape[1]/2,img.shape[0]/2),np.random.uniform(1,30),1)\n",
    "            rotation_matrix2=cv.getRotationMatrix2D((img.shape[1]/2,img.shape[0]/2),-1*np.random.uniform(1,30),1)\n",
    "            r1=cv.warpAffine(img,rotation_matrix,(img.shape[1],img.shape[0]))\n",
    "            r2=cv.warpAffine(img,rotation_matrix2,(img.shape[1],img.shape[0]))\n",
    "            rr=np.random.uniform(0,1)\n",
    "            cv.imwrite(\"./data/\"+entries[i]+\"/\"+li[j]+\"rc\"+\".jpg\",horizontal_flip(r1,rr))\n",
    "            rr=np.random.uniform(0,1)\n",
    "            cv.imwrite(\"./data/\"+entries[i]+\"/\"+li[j]+\"ra\"+\".jpg\",horizontal_flip(r2,rr))\n",
    "    \n",
    "\n",
    "\n",
    "\n",
    "\n",
    "train_generator, validation_generator = tf.keras.utils.image_dataset_from_directory(\n",
    "    directory='data/',\n",
    "    labels='inferred',\n",
    "    label_mode='categorical',\n",
    "    batch_size=64,\n",
    "    image_size=(404, 303),\n",
    "    shuffle=True,\n",
    "    seed=123,\n",
    "    validation_split=0.2,# 20% of the data will be used for validation\n",
    "    subset=\"both\")# splliting valadation  and trian\n"
   ]
  },
  {
   "cell_type": "markdown",
   "metadata": {},
   "source": [
    "Functions to build the cnn layer"
   ]
  },
  {
   "cell_type": "code",
   "execution_count": 88,
   "metadata": {},
   "outputs": [],
   "source": [
    "def makeHiddenLayers(inputs):\n",
    "        cnn = tf.keras.layers.Conv2D(16, (3, 3), padding=\"same\",activation=\"relu\")(inputs)\n",
    "        cnn = tf.keras.layers.BatchNormalization(axis=-1)(cnn)\n",
    "        cnn = tf.keras.layers.MaxPooling2D(pool_size=(3, 3))(cnn)\n",
    "        cnn = tf.keras.layers.Dropout(0.25)(cnn)\n",
    "        cnn = tf.keras.layers.Conv2D(32, (3, 3), padding=\"same\")(cnn)\n",
    "        cnn = tf.keras.layers.Activation(\"relu\")(cnn)\n",
    "        cnn = tf.keras.layers.BatchNormalization(axis=-1)(cnn)\n",
    "        cnn = tf.keras.layers.MaxPooling2D(pool_size=(2, 2))(cnn)\n",
    "        cnn = tf.keras.layers.Dropout(0.25)(cnn)\n",
    "        cnn = tf.keras.layers.Conv2D(32, (3, 3), padding=\"same\")(cnn)\n",
    "        cnn = tf.keras.layers.Activation(\"relu\")(cnn)\n",
    "        cnn = tf.keras.layers.BatchNormalization(axis=-1)(cnn)\n",
    "        cnn = tf.keras.layers.MaxPooling2D(pool_size=(2, 2))(cnn)\n",
    "        cnn = tf.keras.layers.Dropout(0.25)(cnn)\n",
    "        return cnn #return the layer of the hidden layers\n",
    "def makeOutputLayer(inputs,class_dict):\n",
    "    cnn=makeHiddenLayers(inputs)\n",
    "    cnn = tf.keras.layers.Flatten()(cnn)\n",
    "    cnn = tf.keras.layers.Dense(128)(cnn)\n",
    "    cnn = tf.keras.layers.Activation(\"relu\")(cnn)\n",
    "    cnn = tf.keras.layers.BatchNormalization()(cnn)\n",
    "    cnn = tf.keras.layers.Dropout(0.5)(cnn)\n",
    "    cnn = tf.keras.layers.Dense(class_dict)(cnn)\n",
    "    cnn = tf.keras.layers.Activation(\"softmax\", name=\"Bark_Output\")(cnn)\n",
    "\n",
    "    return cnn # return the output layer\n",
    "def assemble(width,height,class_dict):\n",
    "    inputs = tf.keras.layers.Input(shape=(height, width, 3))\n",
    "    cnnOutputLayers=makeOutputLayer(inputs,class_dict)\n",
    "    model=tf.keras.models.Model(inputs=inputs,outputs = [cnnOutputLayers],name=\"face_net\")\n",
    "    return model # return the model \n"
   ]
  },
  {
   "cell_type": "markdown",
   "metadata": {},
   "source": [
    "Model assembly and traning"
   ]
  },
  {
   "cell_type": "code",
   "execution_count": 92,
   "metadata": {},
   "outputs": [
    {
     "name": "stdout",
     "output_type": "stream",
     "text": [
      "Epoch 1/20\n",
      "WARNING:tensorflow:AutoGraph could not transform <function Model.make_train_function.<locals>.train_function at 0x000001C199B053A8> and will run it as-is.\n",
      "Please report this to the TensorFlow team. When filing the bug, set the verbosity to 10 (on Linux, `export AUTOGRAPH_VERBOSITY=10`) and attach the full output.\n",
      "Cause: 'arguments' object has no attribute 'posonlyargs'\n",
      "To silence this warning, decorate the function with @tf.autograph.experimental.do_not_convert\n",
      "WARNING: AutoGraph could not transform <function Model.make_train_function.<locals>.train_function at 0x000001C199B053A8> and will run it as-is.\n",
      "Please report this to the TensorFlow team. When filing the bug, set the verbosity to 10 (on Linux, `export AUTOGRAPH_VERBOSITY=10`) and attach the full output.\n",
      "Cause: 'arguments' object has no attribute 'posonlyargs'\n",
      "To silence this warning, decorate the function with @tf.autograph.experimental.do_not_convert\n",
      "210/210 [==============================] - ETA: 0s - loss: 2.5005 - accuracy: 0.3593WARNING:tensorflow:AutoGraph could not transform <function Model.make_test_function.<locals>.test_function at 0x000001C191862F78> and will run it as-is.\n",
      "Please report this to the TensorFlow team. When filing the bug, set the verbosity to 10 (on Linux, `export AUTOGRAPH_VERBOSITY=10`) and attach the full output.\n",
      "Cause: 'arguments' object has no attribute 'posonlyargs'\n",
      "To silence this warning, decorate the function with @tf.autograph.experimental.do_not_convert\n",
      "WARNING: AutoGraph could not transform <function Model.make_test_function.<locals>.test_function at 0x000001C191862F78> and will run it as-is.\n",
      "Please report this to the TensorFlow team. When filing the bug, set the verbosity to 10 (on Linux, `export AUTOGRAPH_VERBOSITY=10`) and attach the full output.\n",
      "Cause: 'arguments' object has no attribute 'posonlyargs'\n",
      "To silence this warning, decorate the function with @tf.autograph.experimental.do_not_convert\n",
      "210/210 [==============================] - 685s 3s/step - loss: 2.5005 - accuracy: 0.3593 - val_loss: 2.6047 - val_accuracy: 0.2827\n",
      "Epoch 2/20\n",
      "210/210 [==============================] - 640s 3s/step - loss: 1.2270 - accuracy: 0.6741 - val_loss: 1.4254 - val_accuracy: 0.5938\n",
      "Epoch 3/20\n",
      "210/210 [==============================] - 627s 3s/step - loss: 0.7640 - accuracy: 0.7987 - val_loss: 1.4792 - val_accuracy: 0.5879\n",
      "Epoch 4/20\n",
      "210/210 [==============================] - 628s 3s/step - loss: 0.5138 - accuracy: 0.8688 - val_loss: 1.2288 - val_accuracy: 0.7035\n",
      "Epoch 5/20\n",
      "210/210 [==============================] - 617s 3s/step - loss: 0.3809 - accuracy: 0.9001 - val_loss: 0.8041 - val_accuracy: 0.7591\n",
      "Epoch 6/20\n",
      "210/210 [==============================] - 615s 3s/step - loss: 0.2787 - accuracy: 0.9264 - val_loss: 1.1904 - val_accuracy: 0.6608\n",
      "Epoch 7/20\n",
      "210/210 [==============================] - 608s 3s/step - loss: 0.2228 - accuracy: 0.9425 - val_loss: 0.7097 - val_accuracy: 0.7953\n",
      "Epoch 8/20\n",
      "210/210 [==============================] - 611s 3s/step - loss: 0.1841 - accuracy: 0.9489 - val_loss: 1.0588 - val_accuracy: 0.7140\n",
      "Epoch 9/20\n",
      "210/210 [==============================] - 611s 3s/step - loss: 0.1560 - accuracy: 0.9576 - val_loss: 0.8469 - val_accuracy: 0.7669\n",
      "Epoch 10/20\n",
      "210/210 [==============================] - 607s 3s/step - loss: 0.1327 - accuracy: 0.9647 - val_loss: 0.9204 - val_accuracy: 0.7546\n",
      "Epoch 11/20\n",
      "210/210 [==============================] - 612s 3s/step - loss: 0.1228 - accuracy: 0.9668 - val_loss: 1.1606 - val_accuracy: 0.7020\n",
      "Epoch 12/20\n",
      "210/210 [==============================] - 608s 3s/step - loss: 0.1051 - accuracy: 0.9714 - val_loss: 0.6556 - val_accuracy: 0.8225\n",
      "Epoch 13/20\n",
      "210/210 [==============================] - 600s 3s/step - loss: 0.1076 - accuracy: 0.9686 - val_loss: 0.9226 - val_accuracy: 0.8207\n",
      "Epoch 14/20\n",
      "210/210 [==============================] - 600s 3s/step - loss: 0.0905 - accuracy: 0.9753 - val_loss: 0.8291 - val_accuracy: 0.7836\n",
      "Epoch 15/20\n",
      "210/210 [==============================] - 601s 3s/step - loss: 0.0891 - accuracy: 0.9741 - val_loss: 0.7888 - val_accuracy: 0.8054\n",
      "Epoch 16/20\n",
      "210/210 [==============================] - 604s 3s/step - loss: 0.0916 - accuracy: 0.9725 - val_loss: 1.7160 - val_accuracy: 0.6396\n",
      "Epoch 17/20\n",
      "210/210 [==============================] - 607s 3s/step - loss: 0.1045 - accuracy: 0.9674 - val_loss: 0.8882 - val_accuracy: 0.7806\n",
      "Epoch 18/20\n",
      "210/210 [==============================] - 603s 3s/step - loss: 0.0798 - accuracy: 0.9777 - val_loss: 0.7247 - val_accuracy: 0.8198\n",
      "Epoch 19/20\n",
      "210/210 [==============================] - 601s 3s/step - loss: 0.0736 - accuracy: 0.9779 - val_loss: 2.9290 - val_accuracy: 0.5161\n",
      "Epoch 20/20\n",
      "210/210 [==============================] - 604s 3s/step - loss: 0.0706 - accuracy: 0.9777 - val_loss: 0.7892 - val_accuracy: 0.8335\n"
     ]
    }
   ],
   "source": [
    "X=assemble(303, 404,50)\n",
    "X.compile(optimizer = 'adam', loss = 'categorical_crossentropy', metrics = ['accuracy'])\n",
    "HistoryModel=X.fit(x = train_generator , validation_data = validation_generator, epochs = 20)"
   ]
  },
  {
   "cell_type": "code",
   "execution_count": 93,
   "metadata": {},
   "outputs": [
    {
     "name": "stdout",
     "output_type": "stream",
     "text": [
      "WARNING:tensorflow:AutoGraph could not transform <function Model.make_predict_function.<locals>.predict_function at 0x000001C19DE970D8> and will run it as-is.\n",
      "Please report this to the TensorFlow team. When filing the bug, set the verbosity to 10 (on Linux, `export AUTOGRAPH_VERBOSITY=10`) and attach the full output.\n",
      "Cause: 'arguments' object has no attribute 'posonlyargs'\n",
      "To silence this warning, decorate the function with @tf.autograph.experimental.do_not_convert\n",
      "WARNING: AutoGraph could not transform <function Model.make_predict_function.<locals>.predict_function at 0x000001C19DE970D8> and will run it as-is.\n",
      "Please report this to the TensorFlow team. When filing the bug, set the verbosity to 10 (on Linux, `export AUTOGRAPH_VERBOSITY=10`) and attach the full output.\n",
      "Cause: 'arguments' object has no attribute 'posonlyargs'\n",
      "To silence this warning, decorate the function with @tf.autograph.experimental.do_not_convert\n",
      "1/1 [==============================] - 1s 767ms/step\n",
      "Adenanthera microsperma\n"
     ]
    }
   ],
   "source": [
    "\n",
    "test_image = tf.keras.utils.load_img(r'data\\Adenanthera microsperma\\IMG_5777.JPG', target_size = (404,303))\n",
    "test_image = tf.keras.utils.img_to_array(test_image)\n",
    "test_image = np.expand_dims(test_image, axis = 0)\n",
    "result = X.predict(test_image)\n",
    "maxIndex=0\n",
    "\n",
    "for i in range(1,50):\n",
    "      if result[0][i]>result[0][maxIndex]:\n",
    "            maxIndex=i\n",
    "print(entries[maxIndex+1])\n"
   ]
  },
  {
   "cell_type": "markdown",
   "metadata": {},
   "source": [
    "Accuercy graph"
   ]
  },
  {
   "cell_type": "code",
   "execution_count": 96,
   "metadata": {},
   "outputs": [
    {
     "name": "stdout",
     "output_type": "stream",
     "text": [
      "{'loss': [2.5005087852478027, 1.227049469947815, 0.7640150785446167, 0.513785183429718, 0.38093462586402893, 0.2786526083946228, 0.22283153235912323, 0.18414224684238434, 0.15595857799053192, 0.13265909254550934, 0.12282534688711166, 0.10506962984800339, 0.10757759213447571, 0.09050466865301132, 0.08912696689367294, 0.09160690009593964, 0.10451434552669525, 0.07980229705572128, 0.0735752284526825, 0.07061094790697098], 'accuracy': [0.3592769503593445, 0.6741111278533936, 0.7987003326416016, 0.8687630891799927, 0.9000597596168518, 0.9263519644737244, 0.9424858093261719, 0.9489094614982605, 0.9576486349105835, 0.9647445678710938, 0.9668359756469727, 0.9713922739028931, 0.9686286449432373, 0.9752763509750366, 0.97408127784729, 0.9725127220153809, 0.9673588275909424, 0.9777412414550781, 0.97789067029953, 0.9776665568351746], 'val_loss': [2.6046574115753174, 1.4254239797592163, 1.4792389869689941, 1.2287758588790894, 0.8040998578071594, 1.1904343366622925, 0.7097095251083374, 1.0588154792785645, 0.8468949198722839, 0.9203691482543945, 1.160622000694275, 0.6556477546691895, 0.922584056854248, 0.8291495442390442, 0.7887733578681946, 1.7160457372665405, 0.8881527781486511, 0.7247064709663391, 2.9290270805358887, 0.7892146110534668], 'val_accuracy': [0.28272563219070435, 0.593843400478363, 0.5878661274909973, 0.7035266160964966, 0.7591153383255005, 0.6607890129089355, 0.7952779531478882, 0.713986873626709, 0.7668858170509338, 0.7546324133872986, 0.7020322680473328, 0.8224745988845825, 0.8206813931465149, 0.7836222648620605, 0.8054393529891968, 0.6395696401596069, 0.7806335687637329, 0.8197848200798035, 0.5161386728286743, 0.8335325717926025]}\n"
     ]
    }
   ],
   "source": [
    "print(HistoryModel.history)"
   ]
  },
  {
   "cell_type": "code",
   "execution_count": 97,
   "metadata": {},
   "outputs": [
    {
     "data": {
      "text/plain": [
       "[<matplotlib.lines.Line2D at 0x1c1e6f0b788>]"
      ]
     },
     "execution_count": 97,
     "metadata": {},
     "output_type": "execute_result"
    },
    {
     "data": {
      "image/png": "[encoded data removed]",
      "text/plain": [
       "<Figure size 432x288 with 1 Axes>"
      ]
     },
     "metadata": {
      "needs_background": "light"
     },
     "output_type": "display_data"
    }
   ],
   "source": [
    "plt.plot(range(1,21),HistoryModel.history['accuracy'],label=\"Training Accuracy\")\n",
    "plt.plot(range(1,21),HistoryModel.history['val_accuracy'],label=\"Validation Accuracy\")"
   ]
  },
  {
   "cell_type": "markdown",
   "metadata": {},
   "source": [
    "Loss Graph"
   ]
  },
  {
   "cell_type": "code",
   "execution_count": 98,
   "metadata": {},
   "outputs": [
    {
     "data": {
      "text/plain": [
       "[<matplotlib.lines.Line2D at 0x1c1884c9b08>]"
      ]
     },
     "execution_count": 98,
     "metadata": {},
     "output_type": "execute_result"
    },
    {
     "data": {
      "image/png": "[encoded data removed]",
      "text/plain": [
       "<Figure size 432x288 with 1 Axes>"
      ]
     },
     "metadata": {
      "needs_background": "light"
     },
     "output_type": "display_data"
    }
   ],
   "source": [
    "plt.plot(range(1,21),HistoryModel.history['loss'],label=\"Training Accuracy\")\n",
    "plt.plot(range(1,21),HistoryModel.history['val_loss'],label=\"Validation Accuracy\")"
   ]
  }
 ],
 "metadata": {
  "kernelspec": {
   "display_name": "Python 3.7.9 64-bit",
   "language": "python",
   "name": "python3"
  },
  "language_info": {
   "name": "python",
   "version": "3.7.9"
  },
  "orig_nbformat": 4,
  "vscode": {
   "interpreter": {
    "hash": "b08f8407356b161a2e1ac7d2ca0aa1e0ec9901f167337b26f19bf60d60a06b81"
   }
  }
 },
 "nbformat": 4,
 "nbformat_minor": 2
}
