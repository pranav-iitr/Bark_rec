{
 "cells": [
  {
   "cell_type": "markdown",
   "metadata": {},
   "source": [
    "Imorting Libraries"
   ]
  },
  {
   "cell_type": "code",
   "execution_count": 64,
   "metadata": {},
   "outputs": [],
   "source": [
    "import pandas as pd\n",
    "import os\n",
    "import tensorflow as tf\n",
    "from keras.preprocessing.image import ImageDataGenerator\n",
    "import numpy as np\n",
    "from keras.preprocessing import image\n",
    "import matplotlib.pyplot as plt"
   ]
  },
  {
   "cell_type": "code",
   "execution_count": 52,
   "metadata": {},
   "outputs": [
    {
     "name": "stdout",
     "output_type": "stream",
     "text": [
      "{1: 'Acacia', 2: 'Adenanthera microsperma', 3: 'Adenium species', 4: 'Anacardium occidentale', 5: 'Annona squamosa', 6: 'Artocarpus altilis', 7: 'Artocarpus heterophyllus', 8: 'Barringtonia acutangula', 9: 'Cananga odorata', 10: 'Carica papaya', 11: 'Casuarina equisetifolia', 12: 'Cedrus', 13: 'Chrysophyllum cainino', 14: 'Citrus aurantiifolia', 15: 'Citrus grandis', 16: 'Cocos nucifera', 17: 'Dalbergia oliveri', 18: 'Delonix regia', 19: 'Dipterocarpus alatus', 20: 'Erythrina fusca', 21: 'Eucalyptus', 22: 'Ficus microcarpa', 23: 'Ficus racemosa', 24: 'Gmelina arborea Roxb', 25: 'Hevea brasiliensis', 26: 'Hopea', 27: 'Khaya senegalensis', 28: 'Khaya senegalensis A.Juss', 29: 'Lagerstroemia speciosa', 30: 'Magnolia alba', 31: 'Mangifera', 32: 'Melaleuca', 33: 'Melia azedarach', 34: 'Musa', 35: 'Nephelium lappaceum', 36: 'Persea', 37: 'Polyalthia longifolia', 38: 'Prunnus', 39: 'Prunus salicina', 40: 'Psidium guajava', 41: 'Pterocarpus macrocarpus', 42: 'Senna siamea', 43: 'Spondias mombin L', 44: 'Syzygium nervosum', 45: 'Tamarindus indica', 46: 'Tectona grandis', 47: 'Terminalia catappa', 48: 'Veitchia merrilli', 49: 'Wrightia', 50: 'Wrightia religiosa'}\n",
      "Found 5578 files belonging to 50 classes.\n",
      "Using 4463 files for training.\n",
      "Using 1115 files for validation.\n"
     ]
    }
   ],
   "source": [
    "\n",
    "x=os.walk(r\"./data\")\n",
    "x=list(x)\n",
    "entries={}\n",
    "it = 0\n",
    "for i in range(1,len(x)) :\n",
    "\n",
    "    entries[i]=x[i][0].split(\"\\\\\")[-1]\n",
    "    \n",
    "print(entries)\n",
    "\n",
    "\n",
    "train_generator, validation_generator = tf.keras.utils.image_dataset_from_directory(\n",
    "    directory='data/',\n",
    "    labels='inferred',\n",
    "    label_mode='categorical',\n",
    "    batch_size=32,\n",
    "    image_size=(404, 303),\n",
    "    shuffle=True,\n",
    "    seed=123,\n",
    "    validation_split=0.2,\n",
    "    subset=\"both\")\n"
   ]
  },
  {
   "cell_type": "code",
   "execution_count": 55,
   "metadata": {},
   "outputs": [],
   "source": [
    "def makeHiddenLayers(inputs):\n",
    "        cnn = tf.keras.layers.Conv2D(16, (3, 3), padding=\"same\",activation=\"relu\")(inputs)\n",
    "        cnn = tf.keras.layers.BatchNormalization(axis=-1)(cnn)\n",
    "        cnn = tf.keras.layers.MaxPooling2D(pool_size=(3, 3))(cnn)\n",
    "        cnn = tf.keras.layers.Dropout(0.25)(cnn)\n",
    "        cnn = tf.keras.layers.Conv2D(32, (3, 3), padding=\"same\")(cnn)\n",
    "        cnn = tf.keras.layers.Activation(\"relu\")(cnn)\n",
    "        cnn = tf.keras.layers.BatchNormalization(axis=-1)(cnn)\n",
    "        cnn = tf.keras.layers.MaxPooling2D(pool_size=(2, 2))(cnn)\n",
    "        cnn = tf.keras.layers.Dropout(0.25)(cnn)\n",
    "        cnn = tf.keras.layers.Conv2D(32, (3, 3), padding=\"same\")(cnn)\n",
    "        cnn = tf.keras.layers.Activation(\"relu\")(cnn)\n",
    "        cnn = tf.keras.layers.BatchNormalization(axis=-1)(cnn)\n",
    "        cnn = tf.keras.layers.MaxPooling2D(pool_size=(2, 2))(cnn)\n",
    "        cnn = tf.keras.layers.Dropout(0.25)(cnn)\n",
    "        return cnn\n",
    "def makeOutputLayer(inputs,class_dict):\n",
    "    cnn=makeHiddenLayers(inputs)\n",
    "    cnn = tf.keras.layers.Flatten()(cnn)\n",
    "    cnn = tf.keras.layers.Dense(128)(cnn)\n",
    "    cnn = tf.keras.layers.Activation(\"relu\")(cnn)\n",
    "    cnn = tf.keras.layers.BatchNormalization()(cnn)\n",
    "    cnn = tf.keras.layers.Dropout(0.5)(cnn)\n",
    "    cnn = tf.keras.layers.Dense(class_dict)(cnn)\n",
    "    cnn = tf.keras.layers.Activation(\"softmax\", name=\"Bark_Output\")(cnn)\n",
    "\n",
    "    return cnn\n",
    "def assemble(width,height,class_dict):\n",
    "    inputs = tf.keras.layers.Input(shape=(height, width, 3))\n",
    "    cnnOutputLayers=makeOutputLayer(inputs,class_dict)\n",
    "    model=tf.keras.models.Model(inputs=inputs,outputs = [cnnOutputLayers],name=\"face_net\")\n",
    "    return model\n"
   ]
  },
  {
   "cell_type": "code",
   "execution_count": 57,
   "metadata": {},
   "outputs": [
    {
     "name": "stdout",
     "output_type": "stream",
     "text": [
      "Epoch 1/25\n",
      "WARNING:tensorflow:AutoGraph could not transform <function Model.make_train_function.<locals>.train_function at 0x000001C1832BD828> and will run it as-is.\n",
      "Please report this to the TensorFlow team. When filing the bug, set the verbosity to 10 (on Linux, `export AUTOGRAPH_VERBOSITY=10`) and attach the full output.\n",
      "Cause: 'arguments' object has no attribute 'posonlyargs'\n",
      "To silence this warning, decorate the function with @tf.autograph.experimental.do_not_convert\n",
      "WARNING: AutoGraph could not transform <function Model.make_train_function.<locals>.train_function at 0x000001C1832BD828> and will run it as-is.\n",
      "Please report this to the TensorFlow team. When filing the bug, set the verbosity to 10 (on Linux, `export AUTOGRAPH_VERBOSITY=10`) and attach the full output.\n",
      "Cause: 'arguments' object has no attribute 'posonlyargs'\n",
      "To silence this warning, decorate the function with @tf.autograph.experimental.do_not_convert\n",
      "140/140 [==============================] - ETA: 0s - loss: 2.9459 - accuracy: 0.2713WARNING:tensorflow:AutoGraph could not transform <function Model.make_test_function.<locals>.test_function at 0x000001C182A6FE58> and will run it as-is.\n",
      "Please report this to the TensorFlow team. When filing the bug, set the verbosity to 10 (on Linux, `export AUTOGRAPH_VERBOSITY=10`) and attach the full output.\n",
      "Cause: 'arguments' object has no attribute 'posonlyargs'\n",
      "To silence this warning, decorate the function with @tf.autograph.experimental.do_not_convert\n",
      "WARNING: AutoGraph could not transform <function Model.make_test_function.<locals>.test_function at 0x000001C182A6FE58> and will run it as-is.\n",
      "Please report this to the TensorFlow team. When filing the bug, set the verbosity to 10 (on Linux, `export AUTOGRAPH_VERBOSITY=10`) and attach the full output.\n",
      "Cause: 'arguments' object has no attribute 'posonlyargs'\n",
      "To silence this warning, decorate the function with @tf.autograph.experimental.do_not_convert\n",
      "140/140 [==============================] - 210s 1s/step - loss: 2.9459 - accuracy: 0.2713 - val_loss: 2.8027 - val_accuracy: 0.2619\n",
      "Epoch 2/25\n",
      "140/140 [==============================] - 204s 1s/step - loss: 1.6633 - accuracy: 0.5714 - val_loss: 3.3074 - val_accuracy: 0.2691\n",
      "Epoch 3/25\n",
      "140/140 [==============================] - 203s 1s/step - loss: 1.0987 - accuracy: 0.7313 - val_loss: 1.8408 - val_accuracy: 0.5121\n",
      "Epoch 4/25\n",
      "140/140 [==============================] - 234s 2s/step - loss: 0.7238 - accuracy: 0.8263 - val_loss: 1.5681 - val_accuracy: 0.6152\n",
      "Epoch 5/25\n",
      "140/140 [==============================] - 238s 2s/step - loss: 0.5082 - accuracy: 0.8913 - val_loss: 1.4737 - val_accuracy: 0.6744\n",
      "Epoch 6/25\n",
      "140/140 [==============================] - 268s 2s/step - loss: 0.3532 - accuracy: 0.9263 - val_loss: 1.8836 - val_accuracy: 0.5256\n",
      "Epoch 7/25\n",
      "140/140 [==============================] - 261s 2s/step - loss: 0.2659 - accuracy: 0.9469 - val_loss: 1.5726 - val_accuracy: 0.6816\n",
      "Epoch 8/25\n",
      "140/140 [==============================] - 262s 2s/step - loss: 0.1817 - accuracy: 0.9668 - val_loss: 1.8196 - val_accuracy: 0.6117\n",
      "Epoch 9/25\n",
      "140/140 [==============================] - 223s 2s/step - loss: 0.1626 - accuracy: 0.9680 - val_loss: 1.2883 - val_accuracy: 0.6915\n",
      "Epoch 10/25\n",
      "140/140 [==============================] - 213s 2s/step - loss: 0.1297 - accuracy: 0.9787 - val_loss: 1.1690 - val_accuracy: 0.7300\n",
      "Epoch 11/25\n",
      "140/140 [==============================] - 215s 2s/step - loss: 0.1239 - accuracy: 0.9736 - val_loss: 1.7998 - val_accuracy: 0.6574\n",
      "Epoch 12/25\n",
      "140/140 [==============================] - 213s 2s/step - loss: 0.0966 - accuracy: 0.9814 - val_loss: 2.1658 - val_accuracy: 0.5776\n",
      "Epoch 13/25\n",
      "140/140 [==============================] - 212s 2s/step - loss: 0.0935 - accuracy: 0.9821 - val_loss: 1.5151 - val_accuracy: 0.7408\n",
      "Epoch 14/25\n",
      "140/140 [==============================] - 215s 2s/step - loss: 0.0836 - accuracy: 0.9839 - val_loss: 1.7078 - val_accuracy: 0.7085\n",
      "Epoch 15/25\n",
      "140/140 [==============================] - 211s 2s/step - loss: 0.0744 - accuracy: 0.9852 - val_loss: 1.4985 - val_accuracy: 0.6969\n",
      "Epoch 16/25\n",
      "140/140 [==============================] - 215s 2s/step - loss: 0.0739 - accuracy: 0.9841 - val_loss: 1.6841 - val_accuracy: 0.6448\n",
      "Epoch 17/25\n",
      "140/140 [==============================] - 220s 2s/step - loss: 0.0636 - accuracy: 0.9879 - val_loss: 1.9193 - val_accuracy: 0.5677\n",
      "Epoch 18/25\n",
      "140/140 [==============================] - 230s 2s/step - loss: 0.0756 - accuracy: 0.9792 - val_loss: 2.1325 - val_accuracy: 0.5444\n",
      "Epoch 19/25\n",
      "140/140 [==============================] - 216s 2s/step - loss: 0.0667 - accuracy: 0.9850 - val_loss: 2.1946 - val_accuracy: 0.6619\n",
      "Epoch 20/25\n",
      "140/140 [==============================] - 214s 2s/step - loss: 0.0679 - accuracy: 0.9843 - val_loss: 2.5650 - val_accuracy: 0.5552\n",
      "Epoch 21/25\n",
      "140/140 [==============================] - 216s 2s/step - loss: 0.0735 - accuracy: 0.9814 - val_loss: 2.0590 - val_accuracy: 0.6179\n",
      "Epoch 22/25\n",
      "140/140 [==============================] - 214s 2s/step - loss: 0.0572 - accuracy: 0.9870 - val_loss: 1.0885 - val_accuracy: 0.7713\n",
      "Epoch 23/25\n",
      "140/140 [==============================] - 230s 2s/step - loss: 0.0530 - accuracy: 0.9875 - val_loss: 2.3650 - val_accuracy: 0.6117\n",
      "Epoch 24/25\n",
      "140/140 [==============================] - 240s 2s/step - loss: 0.0624 - accuracy: 0.9866 - val_loss: 0.8817 - val_accuracy: 0.7973\n",
      "Epoch 25/25\n",
      "140/140 [==============================] - 217s 2s/step - loss: 0.0495 - accuracy: 0.9890 - val_loss: 1.6341 - val_accuracy: 0.7058\n"
     ]
    }
   ],
   "source": [
    "X=assemble(303, 404,50)\n",
    "X.compile(optimizer = 'adam', loss = 'categorical_crossentropy', metrics = ['accuracy'])\n",
    "finalModel=X.fit(x = train_generator , validation_data = validation_generator, epochs = 25)"
   ]
  },
  {
   "cell_type": "code",
   "execution_count": 60,
   "metadata": {},
   "outputs": [
    {
     "name": "stdout",
     "output_type": "stream",
     "text": [
      "1/1 [==============================] - 0s 32ms/step\n",
      "Adenanthera microsperma\n"
     ]
    }
   ],
   "source": [
    "\n",
    "test_image = tf.keras.utils.load_img(r'data\\Adenanthera microsperma\\IMG_5777.JPG', target_size = (404,303))\n",
    "test_image = tf.keras.utils.img_to_array(test_image)\n",
    "test_image = np.expand_dims(test_image, axis = 0)\n",
    "result = X.predict(test_image)\n",
    "maxIndex=0\n",
    "\n",
    "for i in range(1,50):\n",
    "      if result[0][i]>result[0][maxIndex]:\n",
    "            maxIndex=i\n",
    "print(entries[maxIndex+1])\n"
   ]
  },
  {
   "cell_type": "code",
   "execution_count": 74,
   "metadata": {},
   "outputs": [
    {
     "data": {
      "text/plain": [
       "[<matplotlib.lines.Line2D at 0x1c19490d688>]"
      ]
     },
     "execution_count": 74,
     "metadata": {},
     "output_type": "execute_result"
    },
    {
     "data": {
      "image/png": "[encoded data removed]",
      "text/plain": [
       "<Figure size 432x288 with 1 Axes>"
      ]
     },
     "metadata": {
      "needs_background": "light"
     },
     "output_type": "display_data"
    }
   ],
   "source": [
    "plt.plot(range(1,26),finalModel.history['accuracy'],label=\"Training Accuracy\")\n",
    "plt.plot(range(1,26),finalModel.history['val_accuracy'],label=\"Validation Accuracy\")"
   ]
  },
  {
   "cell_type": "code",
   "execution_count": 77,
   "metadata": {},
   "outputs": [
    {
     "name": "stdout",
     "output_type": "stream",
     "text": [
      "dict_keys(['loss', 'accuracy', 'val_loss', 'val_accuracy'])\n"
     ]
    },
    {
     "data": {
      "text/plain": [
       "[<matplotlib.lines.Line2D at 0x1c1e70c7608>]"
      ]
     },
     "execution_count": 77,
     "metadata": {},
     "output_type": "execute_result"
    },
    {
     "data": {
      "image/png": "[encoded data removed]",
      "text/plain": [
       "<Figure size 432x288 with 1 Axes>"
      ]
     },
     "metadata": {
      "needs_background": "light"
     },
     "output_type": "display_data"
    }
   ],
   "source": [
    "plt.plot(range(1,26),finalModel.history['loss'],label=\"Training Accuracy\")\n",
    "plt.plot(range(1,26),finalModel.history['val_loss'],label=\"Validation Accuracy\")"
   ]
  }
 ],
 "metadata": {
  "kernelspec": {
   "display_name": "Python 3.7.9 64-bit",
   "language": "python",
   "name": "python3"
  },
  "language_info": {
   "name": "python",
   "version": "3.7.9"
  },
  "orig_nbformat": 4,
  "vscode": {
   "interpreter": {
    "hash": "b08f8407356b161a2e1ac7d2ca0aa1e0ec9901f167337b26f19bf60d60a06b81"
   }
  }
 },
 "nbformat": 4,
 "nbformat_minor": 2
}
